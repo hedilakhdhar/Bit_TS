{
 "cells": [
  {
   "cell_type": "markdown",
   "metadata": {},
   "source": [
    "# Test rapide librairie Bit"
   ]
  },
  {
   "cell_type": "code",
   "execution_count": 1,
   "metadata": {},
   "outputs": [],
   "source": [
    "import bit as bt"
   ]
  },
  {
   "cell_type": "code",
   "execution_count": 3,
   "metadata": {},
   "outputs": [
    {
     "name": "stdout",
     "output_type": "stream",
     "text": [
      "Help on package bit:\n",
      "\n",
      "NAME\n",
      "    bit\n",
      "\n",
      "PACKAGE CONTENTS\n",
      "    base32\n",
      "    base58\n",
      "    cli\n",
      "    constants\n",
      "    crypto\n",
      "    curve\n",
      "    exceptions\n",
      "    format\n",
      "    keygen\n",
      "    network (package)\n",
      "    transaction\n",
      "    utils\n",
      "    wallet\n",
      "\n",
      "DATA\n",
      "    SUPPORTED_CURRENCIES = OrderedDict([('satoshi', 'Satoshi'), ('ubtc', '...\n",
      "\n",
      "VERSION\n",
      "    0.6.0\n",
      "\n",
      "FILE\n",
      "    //anaconda3/lib/python3.7/site-packages/bit/__init__.py\n",
      "\n",
      "\n"
     ]
    }
   ],
   "source": [
    "help(bt)"
   ]
  },
  {
   "cell_type": "code",
   "execution_count": 4,
   "metadata": {},
   "outputs": [],
   "source": [
    "from bit import SUPPORTED_CURRENCIES"
   ]
  },
  {
   "cell_type": "code",
   "execution_count": 6,
   "metadata": {},
   "outputs": [
    {
     "data": {
      "text/plain": [
       "OrderedDict([('satoshi', 'Satoshi'),\n",
       "             ('ubtc', 'Microbitcoin'),\n",
       "             ('mbtc', 'Millibitcoin'),\n",
       "             ('btc', 'Bitcoin'),\n",
       "             ('usd', 'United States Dollar'),\n",
       "             ('eur', 'Eurozone Euro'),\n",
       "             ('gbp', 'Pound Sterling'),\n",
       "             ('jpy', 'Japanese Yen'),\n",
       "             ('cny', 'Chinese Yuan'),\n",
       "             ('cad', 'Canadian Dollar'),\n",
       "             ('aud', 'Australian Dollar'),\n",
       "             ('nzd', 'New Zealand Dollar'),\n",
       "             ('rub', 'Russian Ruble'),\n",
       "             ('brl', 'Brazilian Real'),\n",
       "             ('chf', 'Swiss Franc'),\n",
       "             ('sek', 'Swedish Krona'),\n",
       "             ('dkk', 'Danish Krone'),\n",
       "             ('isk', 'Icelandic Krona'),\n",
       "             ('pln', 'Polish Zloty'),\n",
       "             ('hkd', 'Hong Kong Dollar'),\n",
       "             ('krw', 'South Korean Won'),\n",
       "             ('sgd', 'Singapore Dollar'),\n",
       "             ('thb', 'Thai Baht'),\n",
       "             ('twd', 'New Taiwan Dollar'),\n",
       "             ('clp', 'Chilean Peso')])"
      ]
     },
     "execution_count": 6,
     "metadata": {},
     "output_type": "execute_result"
    }
   ],
   "source": [
    "SUPPORTED_CURRENCIES"
   ]
  },
  {
   "cell_type": "code",
   "execution_count": 7,
   "metadata": {},
   "outputs": [],
   "source": [
    "from bit.network import currency_to_satoshi_cached, satoshi_to_currency_cached"
   ]
  },
  {
   "cell_type": "code",
   "execution_count": 11,
   "metadata": {},
   "outputs": [
    {
     "data": {
      "text/plain": [
       "'7.07'"
      ]
     },
     "execution_count": 11,
     "metadata": {},
     "output_type": "execute_result"
    }
   ],
   "source": [
    "satoshi_to_currency_cached(100000, 'usd')"
   ]
  },
  {
   "cell_type": "code",
   "execution_count": 12,
   "metadata": {},
   "outputs": [
    {
     "data": {
      "text/plain": [
       "'6.42'"
      ]
     },
     "execution_count": 12,
     "metadata": {},
     "output_type": "execute_result"
    }
   ],
   "source": [
    "satoshi_to_currency_cached(100000, 'eur')"
   ]
  },
  {
   "cell_type": "code",
   "execution_count": null,
   "metadata": {},
   "outputs": [],
   "source": [
    "satoshi_to_currency_cached(100000, 'gbp')"
   ]
  }
 ],
 "metadata": {
  "kernelspec": {
   "display_name": "Python 3",
   "language": "python",
   "name": "python3"
  },
  "language_info": {
   "codemirror_mode": {
    "name": "ipython",
    "version": 3
   },
   "file_extension": ".py",
   "mimetype": "text/x-python",
   "name": "python",
   "nbconvert_exporter": "python",
   "pygments_lexer": "ipython3",
   "version": "3.7.3"
  },
  "toc": {
   "base_numbering": 1,
   "nav_menu": {},
   "number_sections": true,
   "sideBar": true,
   "skip_h1_title": false,
   "title_cell": "Table of Contents",
   "title_sidebar": "Contents",
   "toc_cell": false,
   "toc_position": {},
   "toc_section_display": true,
   "toc_window_display": false
  },
  "varInspector": {
   "cols": {
    "lenName": 16,
    "lenType": 16,
    "lenVar": 40
   },
   "kernels_config": {
    "python": {
     "delete_cmd_postfix": "",
     "delete_cmd_prefix": "del ",
     "library": "var_list.py",
     "varRefreshCmd": "print(var_dic_list())"
    },
    "r": {
     "delete_cmd_postfix": ") ",
     "delete_cmd_prefix": "rm(",
     "library": "var_list.r",
     "varRefreshCmd": "cat(var_dic_list()) "
    }
   },
   "types_to_exclude": [
    "module",
    "function",
    "builtin_function_or_method",
    "instance",
    "_Feature"
   ],
   "window_display": false
  }
 },
 "nbformat": 4,
 "nbformat_minor": 2
}
